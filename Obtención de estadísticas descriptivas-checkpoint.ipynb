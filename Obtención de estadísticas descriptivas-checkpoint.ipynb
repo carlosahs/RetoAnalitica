{
 "cells": [
  {
   "cell_type": "code",
   "execution_count": 22,
   "id": "b557e217",
   "metadata": {},
   "outputs": [],
   "source": [
    "import pandas as pd"
   ]
  },
  {
   "cell_type": "code",
   "execution_count": 23,
   "id": "e7ae7096",
   "metadata": {},
   "outputs": [
    {
     "name": "stdout",
     "output_type": "stream",
     "text": [
      "      price      brand    model  year  mileage   color       state\n",
      "0      6300     toyota  cruiser  2008   274117   black  new jersey\n",
      "1      2899       ford       se  2011   190552  silver   tennessee\n",
      "2      5350      dodge      mpv  2018    39590  silver     georgia\n",
      "3     25000       ford     door  2014    64146    blue    virginia\n",
      "4     27700  chevrolet     1500  2018     6654     red     florida\n",
      "...     ...        ...      ...   ...      ...     ...         ...\n",
      "2494   7800     nissan    versa  2019    23609     red  california\n",
      "2495   9200     nissan    versa  2018    34553  silver     florida\n",
      "2496   9200     nissan    versa  2018    31594  silver     florida\n",
      "2497   9200     nissan    versa  2018    32557   black     florida\n",
      "2498   9200     nissan    versa  2018    31371  silver     florida\n",
      "\n",
      "[2499 rows x 7 columns]\n"
     ]
    }
   ],
   "source": [
    "df = pd.read_csv('USA_cars_datasets.csv')\n",
    "print(df)"
   ]
  },
  {
   "cell_type": "code",
   "execution_count": 24,
   "id": "185d7395",
   "metadata": {},
   "outputs": [
    {
     "name": "stdout",
     "output_type": "stream",
     "text": [
      "<class 'pandas.core.frame.DataFrame'>\n",
      "RangeIndex: 2499 entries, 0 to 2498\n",
      "Data columns (total 7 columns):\n",
      " #   Column   Non-Null Count  Dtype \n",
      "---  ------   --------------  ----- \n",
      " 0   price    2499 non-null   int64 \n",
      " 1   brand    2499 non-null   object\n",
      " 2   model    2499 non-null   object\n",
      " 3   year     2499 non-null   int64 \n",
      " 4   mileage  2499 non-null   int64 \n",
      " 5   color    2499 non-null   object\n",
      " 6   state    2499 non-null   object\n",
      "dtypes: int64(3), object(4)\n",
      "memory usage: 136.8+ KB\n"
     ]
    }
   ],
   "source": [
    "df.info()"
   ]
  },
  {
   "cell_type": "code",
   "execution_count": 25,
   "id": "5c196897",
   "metadata": {},
   "outputs": [
    {
     "name": "stdout",
     "output_type": "stream",
     "text": [
      "0        6300\n",
      "1        2899\n",
      "2        5350\n",
      "3       25000\n",
      "4       27700\n",
      "        ...  \n",
      "2494     7800\n",
      "2495     9200\n",
      "2496     9200\n",
      "2497     9200\n",
      "2498     9200\n",
      "Name: price, Length: 2499, dtype: int64\n"
     ]
    }
   ],
   "source": [
    "selected = df['price']\n",
    "print(selected)"
   ]
  },
  {
   "cell_type": "code",
   "execution_count": 26,
   "id": "6f20af97",
   "metadata": {},
   "outputs": [
    {
     "name": "stdout",
     "output_type": "stream",
     "text": [
      "0       274117\n",
      "1       190552\n",
      "2        39590\n",
      "3        64146\n",
      "4         6654\n",
      "         ...  \n",
      "2494     23609\n",
      "2495     34553\n",
      "2496     31594\n",
      "2497     32557\n",
      "2498     31371\n",
      "Name: mileage, Length: 2499, dtype: int64\n"
     ]
    }
   ],
   "source": [
    "selected1 = df['mileage']\n",
    "print(selected1)"
   ]
  },
  {
   "cell_type": "code",
   "execution_count": 27,
   "id": "7ce04185",
   "metadata": {},
   "outputs": [
    {
     "data": {
      "text/plain": [
       "0"
      ]
     },
     "execution_count": 27,
     "metadata": {},
     "output_type": "execute_result"
    }
   ],
   "source": [
    "df['mileage'].min()"
   ]
  },
  {
   "cell_type": "code",
   "execution_count": 28,
   "id": "e571e690",
   "metadata": {},
   "outputs": [
    {
     "data": {
      "text/plain": [
       "1017936"
      ]
     },
     "execution_count": 28,
     "metadata": {},
     "output_type": "execute_result"
    }
   ],
   "source": [
    "df['mileage'].max()"
   ]
  },
  {
   "cell_type": "code",
   "execution_count": 29,
   "id": "31814635",
   "metadata": {},
   "outputs": [
    {
     "data": {
      "text/plain": [
       "0"
      ]
     },
     "execution_count": 29,
     "metadata": {},
     "output_type": "execute_result"
    }
   ],
   "source": [
    "df['price'].min()"
   ]
  },
  {
   "cell_type": "code",
   "execution_count": 30,
   "id": "6f37c642",
   "metadata": {},
   "outputs": [
    {
     "data": {
      "text/plain": [
       "84900"
      ]
     },
     "execution_count": 30,
     "metadata": {},
     "output_type": "execute_result"
    }
   ],
   "source": [
    "df['price'].max()"
   ]
  },
  {
   "cell_type": "code",
   "execution_count": 31,
   "id": "084ed50c",
   "metadata": {},
   "outputs": [
    {
     "name": "stdout",
     "output_type": "stream",
     "text": [
      "Media: 18767.671468587436\n"
     ]
    }
   ],
   "source": [
    "print('Media:', selected.mean())"
   ]
  },
  {
   "cell_type": "code",
   "execution_count": 32,
   "id": "18990490",
   "metadata": {},
   "outputs": [
    {
     "name": "stdout",
     "output_type": "stream",
     "text": [
      "Mediana: 16900.0\n"
     ]
    }
   ],
   "source": [
    "print('Mediana:', selected.median())"
   ]
  },
  {
   "cell_type": "code",
   "execution_count": 33,
   "id": "e73bdef3",
   "metadata": {},
   "outputs": [
    {
     "name": "stdout",
     "output_type": "stream",
     "text": [
      "Desvación estándar: 12116.094935650759\n"
     ]
    }
   ],
   "source": [
    "print('Desvación estándar:', selected.std())"
   ]
  },
  {
   "cell_type": "code",
   "execution_count": 34,
   "id": "54f592b8",
   "metadata": {},
   "outputs": [
    {
     "name": "stdout",
     "output_type": "stream",
     "text": [
      "Media recortada:  18798.136601044596\n"
     ]
    }
   ],
   "source": [
    "sorted = selected.sort_values()\n",
    "p = 5\n",
    "acum = 0\n",
    "for i in range(p, len(sorted) - p):\n",
    "    acum = acum + sorted[i]\n",
    "shortMean = acum / (len(sorted) - (2 * p))\n",
    "print('Media recortada: ', shortMean)"
   ]
  },
  {
   "cell_type": "code",
   "execution_count": 35,
   "id": "edd54ed0",
   "metadata": {},
   "outputs": [
    {
     "name": "stdout",
     "output_type": "stream",
     "text": [
      "Media: 52298.685474189675\n"
     ]
    }
   ],
   "source": [
    "print('Media:', selected1.mean())"
   ]
  },
  {
   "cell_type": "code",
   "execution_count": 36,
   "id": "23ac2b2f",
   "metadata": {},
   "outputs": [
    {
     "name": "stdout",
     "output_type": "stream",
     "text": [
      "Mediana: 35365.0\n"
     ]
    }
   ],
   "source": [
    "print('Mediana:', selected1.median())"
   ]
  },
  {
   "cell_type": "code",
   "execution_count": 37,
   "id": "e53756ff",
   "metadata": {},
   "outputs": [
    {
     "name": "stdout",
     "output_type": "stream",
     "text": [
      "Desvación estándar: 59705.51635643589\n"
     ]
    }
   ],
   "source": [
    "print('Desvación estándar:', selected1.std())"
   ]
  },
  {
   "cell_type": "code",
   "execution_count": 38,
   "id": "af11d8aa",
   "metadata": {},
   "outputs": [
    {
     "name": "stdout",
     "output_type": "stream",
     "text": [
      "Media recortada:  52216.019284853355\n"
     ]
    }
   ],
   "source": [
    "sorted = selected1.sort_values()\n",
    "p = 5\n",
    "acum = 0\n",
    "for i in range(p, len(sorted) - p):\n",
    "    acum = acum + sorted[i]\n",
    "shortMean = acum / (len(sorted) - (2 * p))\n",
    "print('Media recortada: ', shortMean)\n"
   ]
  },
  {
   "cell_type": "raw",
   "id": "bbd65758",
   "metadata": {},
   "source": [
    "A traves de Kaggle conseguimos una hoja de datos .csv en la base de datos acerca de la venta de autos usados en Estados Unidos, donde se puede apreciar millage, precio, marca, madelo, color, año y estado en el que se vende.\n",
    "Una vez analizado el documento con la información se llevo acabo el analisis estadistico de algunas de las variables presentadas, entre ellas el precio y el millaje, con lo cual descubrimos que llegan a tener un costo de hasta 84900 dolares y un máximo de hasta 1179936 millas recorridas aproximadamente, usalmente estos autos estan en una media de 18767 dolares con un un millaje medio de 52298 aproximadamente."
   ]
  }
 ],
 "metadata": {
  "kernelspec": {
   "display_name": "Python 3",
   "language": "python",
   "name": "python3"
  },
  "language_info": {
   "codemirror_mode": {
    "name": "ipython",
    "version": 3
   },
   "file_extension": ".py",
   "mimetype": "text/x-python",
   "name": "python",
   "nbconvert_exporter": "python",
   "pygments_lexer": "ipython3",
   "version": "3.8.8"
  }
 },
 "nbformat": 4,
 "nbformat_minor": 5
}
