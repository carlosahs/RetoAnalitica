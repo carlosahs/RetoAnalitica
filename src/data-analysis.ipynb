{
 "cells": [
  {
   "cell_type": "code",
   "execution_count": 27,
   "id": "fb435c24",
   "metadata": {},
   "outputs": [],
   "source": [
    "import pandas as pd\n",
    "\n",
    "from collections import Counter"
   ]
  },
  {
   "cell_type": "markdown",
   "id": "f45062c8",
   "metadata": {},
   "source": [
    "# Load The Marvel Universe Social Network datasets\n",
    "I decided to select this [dataset](https://www.kaggle.com/csanhueza/the-marvel-universe-social-network) to perform the data analysis and data visualizations of this course."
   ]
  },
  {
   "cell_type": "code",
   "execution_count": 19,
   "id": "008d7f15",
   "metadata": {},
   "outputs": [],
   "source": [
    "edges_df = pd.read_csv('../the-marvel-universe-social-network/edges.csv')\n",
    "hero_network_df = pd.read_csv('../the-marvel-universe-social-network/hero-network.csv')\n",
    "nodes_df = pd.read_csv('../the-marvel-universe-social-network/nodes.csv')"
   ]
  },
  {
   "cell_type": "markdown",
   "id": "8ca7707a",
   "metadata": {},
   "source": [
    "# Exploring the `edges.csv` dataset\n",
    "The `edges.csv` dataset simply indicates in which comics the heroes appear."
   ]
  },
  {
   "cell_type": "code",
   "execution_count": 20,
   "id": "be84e6fc",
   "metadata": {},
   "outputs": [
    {
     "data": {
      "text/html": [
       "<div>\n",
       "<style scoped>\n",
       "    .dataframe tbody tr th:only-of-type {\n",
       "        vertical-align: middle;\n",
       "    }\n",
       "\n",
       "    .dataframe tbody tr th {\n",
       "        vertical-align: top;\n",
       "    }\n",
       "\n",
       "    .dataframe thead th {\n",
       "        text-align: right;\n",
       "    }\n",
       "</style>\n",
       "<table border=\"1\" class=\"dataframe\">\n",
       "  <thead>\n",
       "    <tr style=\"text-align: right;\">\n",
       "      <th></th>\n",
       "      <th>hero</th>\n",
       "      <th>comic</th>\n",
       "    </tr>\n",
       "  </thead>\n",
       "  <tbody>\n",
       "    <tr>\n",
       "      <th>count</th>\n",
       "      <td>96104</td>\n",
       "      <td>96104</td>\n",
       "    </tr>\n",
       "    <tr>\n",
       "      <th>unique</th>\n",
       "      <td>6439</td>\n",
       "      <td>12651</td>\n",
       "    </tr>\n",
       "    <tr>\n",
       "      <th>top</th>\n",
       "      <td>SPIDER-MAN/PETER PARKER</td>\n",
       "      <td>COC 1</td>\n",
       "    </tr>\n",
       "    <tr>\n",
       "      <th>freq</th>\n",
       "      <td>1577</td>\n",
       "      <td>111</td>\n",
       "    </tr>\n",
       "  </tbody>\n",
       "</table>\n",
       "</div>"
      ],
      "text/plain": [
       "                           hero  comic\n",
       "count                     96104  96104\n",
       "unique                     6439  12651\n",
       "top     SPIDER-MAN/PETER PARKER  COC 1\n",
       "freq                       1577    111"
      ]
     },
     "execution_count": 20,
     "metadata": {},
     "output_type": "execute_result"
    }
   ],
   "source": [
    "# Basic description of the dataset\n",
    "edges_df.describe()"
   ]
  },
  {
   "cell_type": "markdown",
   "id": "5ba3045b",
   "metadata": {},
   "source": [
    "From here it is clear that various heros and comics appear more than once, and thus it is sensible to perform some kind of frequency analysis.\n",
    "\n",
    "Furthermore, there are 96104 entries in this dataset."
   ]
  },
  {
   "cell_type": "code",
   "execution_count": 21,
   "id": "ba3de6b9",
   "metadata": {},
   "outputs": [
    {
     "name": "stdout",
     "output_type": "stream",
     "text": [
      "<class 'pandas.core.frame.DataFrame'>\n",
      "RangeIndex: 96104 entries, 0 to 96103\n",
      "Data columns (total 2 columns):\n",
      " #   Column  Non-Null Count  Dtype \n",
      "---  ------  --------------  ----- \n",
      " 0   hero    96104 non-null  object\n",
      " 1   comic   96104 non-null  object\n",
      "dtypes: object(2)\n",
      "memory usage: 1.5+ MB\n"
     ]
    }
   ],
   "source": [
    "# Basic information of the dataset\n",
    "edges_df.info()"
   ]
  },
  {
   "cell_type": "markdown",
   "id": "45d246a9",
   "metadata": {},
   "source": [
    "Fortunately this dataset does not contain any `NaN` values, however it handles values that are not numeric (strings):"
   ]
  },
  {
   "cell_type": "code",
   "execution_count": 22,
   "id": "cfda1cee",
   "metadata": {},
   "outputs": [
    {
     "data": {
      "text/html": [
       "<div>\n",
       "<style scoped>\n",
       "    .dataframe tbody tr th:only-of-type {\n",
       "        vertical-align: middle;\n",
       "    }\n",
       "\n",
       "    .dataframe tbody tr th {\n",
       "        vertical-align: top;\n",
       "    }\n",
       "\n",
       "    .dataframe thead th {\n",
       "        text-align: right;\n",
       "    }\n",
       "</style>\n",
       "<table border=\"1\" class=\"dataframe\">\n",
       "  <thead>\n",
       "    <tr style=\"text-align: right;\">\n",
       "      <th></th>\n",
       "      <th>hero</th>\n",
       "      <th>comic</th>\n",
       "    </tr>\n",
       "  </thead>\n",
       "  <tbody>\n",
       "    <tr>\n",
       "      <th>0</th>\n",
       "      <td>24-HOUR MAN/EMMANUEL</td>\n",
       "      <td>AA2 35</td>\n",
       "    </tr>\n",
       "    <tr>\n",
       "      <th>1</th>\n",
       "      <td>3-D MAN/CHARLES CHAN</td>\n",
       "      <td>AVF 4</td>\n",
       "    </tr>\n",
       "    <tr>\n",
       "      <th>2</th>\n",
       "      <td>3-D MAN/CHARLES CHAN</td>\n",
       "      <td>AVF 5</td>\n",
       "    </tr>\n",
       "    <tr>\n",
       "      <th>3</th>\n",
       "      <td>3-D MAN/CHARLES CHAN</td>\n",
       "      <td>COC 1</td>\n",
       "    </tr>\n",
       "    <tr>\n",
       "      <th>4</th>\n",
       "      <td>3-D MAN/CHARLES CHAN</td>\n",
       "      <td>H2 251</td>\n",
       "    </tr>\n",
       "    <tr>\n",
       "      <th>5</th>\n",
       "      <td>3-D MAN/CHARLES CHAN</td>\n",
       "      <td>H2 252</td>\n",
       "    </tr>\n",
       "    <tr>\n",
       "      <th>6</th>\n",
       "      <td>3-D MAN/CHARLES CHAN</td>\n",
       "      <td>M/PRM 35</td>\n",
       "    </tr>\n",
       "    <tr>\n",
       "      <th>7</th>\n",
       "      <td>3-D MAN/CHARLES CHAN</td>\n",
       "      <td>M/PRM 36</td>\n",
       "    </tr>\n",
       "    <tr>\n",
       "      <th>8</th>\n",
       "      <td>3-D MAN/CHARLES CHAN</td>\n",
       "      <td>M/PRM 37</td>\n",
       "    </tr>\n",
       "    <tr>\n",
       "      <th>9</th>\n",
       "      <td>3-D MAN/CHARLES CHAN</td>\n",
       "      <td>WI? 9</td>\n",
       "    </tr>\n",
       "  </tbody>\n",
       "</table>\n",
       "</div>"
      ],
      "text/plain": [
       "                   hero     comic\n",
       "0  24-HOUR MAN/EMMANUEL    AA2 35\n",
       "1  3-D MAN/CHARLES CHAN     AVF 4\n",
       "2  3-D MAN/CHARLES CHAN     AVF 5\n",
       "3  3-D MAN/CHARLES CHAN     COC 1\n",
       "4  3-D MAN/CHARLES CHAN    H2 251\n",
       "5  3-D MAN/CHARLES CHAN    H2 252\n",
       "6  3-D MAN/CHARLES CHAN  M/PRM 35\n",
       "7  3-D MAN/CHARLES CHAN  M/PRM 36\n",
       "8  3-D MAN/CHARLES CHAN  M/PRM 37\n",
       "9  3-D MAN/CHARLES CHAN     WI? 9"
      ]
     },
     "execution_count": 22,
     "metadata": {},
     "output_type": "execute_result"
    }
   ],
   "source": [
    "# First ten values\n",
    "edges_df.head(10)"
   ]
  },
  {
   "cell_type": "markdown",
   "id": "a7dd77ee",
   "metadata": {},
   "source": [
    "# Preparing the data\n",
    "Since all the values in the dataset are strings, then it is necessary to map those strings to a numeric key so that the data analysis and data visualization are easier to handle."
   ]
  },
  {
   "cell_type": "code",
   "execution_count": 37,
   "id": "d3749352",
   "metadata": {},
   "outputs": [],
   "source": [
    "# Get numeric keys for the 'hero' column\n",
    "edges_heroes = edges_df['hero']\n",
    "# Filter duplicate heroes\n",
    "edges_heroes_unique = edges_heroes.unique()\n",
    "# Get numeric values for the string values in the dataset\n",
    "heroes = {i: edges_heroes_unique[i] for i in range(len(edges_heroes_unique))}\n",
    "# Get how often a hero appears in the dataset\n",
    "hero_frequency = Counter(edges_heroes)"
   ]
  },
  {
   "cell_type": "code",
   "execution_count": 40,
   "id": "4846b402",
   "metadata": {},
   "outputs": [],
   "source": [
    "# Get numeric keys for the 'comic' column\n",
    "edges_comics = edges_df['comic']\n",
    "# Filter duplicate comics\n",
    "edges_comics_unique = edges_comics.unique()\n",
    "# Get numeric values for the string values in the dataset\n",
    "comics = {i: edges_comics_unique[i] for i in range(len(edges_comics_unique))}\n",
    "# Get how often a comic appears in the dataset\n",
    "comic_frequency = Counter(edges_comics)"
   ]
  },
  {
   "cell_type": "markdown",
   "id": "0bd5c208",
   "metadata": {},
   "source": [
    "# Simple probabilistic analysis\n",
    "Now it is possible to continue with a simple probabilistic analysis of the dataset."
   ]
  },
  {
   "cell_type": "markdown",
   "id": "4818012f",
   "metadata": {},
   "source": [
    "## Mean\n",
    "Since the dataset does not contain numeric values, the measure of *mean* does not provide significant results in this case."
   ]
  },
  {
   "cell_type": "markdown",
   "id": "6d535d99",
   "metadata": {},
   "source": [
    "## Median\n",
    "In this case the *median* provides significant results as it indicates the most common values in the dataset."
   ]
  },
  {
   "cell_type": "code",
   "execution_count": 42,
   "id": "429b65ab",
   "metadata": {},
   "outputs": [
    {
     "name": "stdout",
     "output_type": "stream",
     "text": [
      "[('SPIDER-MAN/PETER PARKER', 1577)]\n"
     ]
    }
   ],
   "source": [
    "# Most common hero\n",
    "most_common_hero = hero_frequency.most_common(1)\n",
    "print(most_common_hero)"
   ]
  },
  {
   "cell_type": "code",
   "execution_count": 43,
   "id": "6cd4b9a1",
   "metadata": {},
   "outputs": [
    {
     "name": "stdout",
     "output_type": "stream",
     "text": [
      "[('COC 1', 111)]\n"
     ]
    }
   ],
   "source": [
    "# Most common comic\n",
    "most_common_comic = comic_frequency.most_common(1)\n",
    "print(most_common_comic)"
   ]
  },
  {
   "cell_type": "markdown",
   "id": "0cb60eff",
   "metadata": {},
   "source": [
    "## Standard deviation\n"
   ]
  }
 ],
 "metadata": {
  "kernelspec": {
   "display_name": "Python 3 (ipykernel)",
   "language": "python",
   "name": "python3"
  },
  "language_info": {
   "codemirror_mode": {
    "name": "ipython",
    "version": 3
   },
   "file_extension": ".py",
   "mimetype": "text/x-python",
   "name": "python",
   "nbconvert_exporter": "python",
   "pygments_lexer": "ipython3",
   "version": "3.9.0"
  }
 },
 "nbformat": 4,
 "nbformat_minor": 5
}
